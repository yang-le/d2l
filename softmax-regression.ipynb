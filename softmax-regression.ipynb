{
 "cells": [
  {
   "cell_type": "markdown",
   "id": "8a1fb1cc",
   "metadata": {},
   "source": [
    "# 最大似然\n",
    "\n",
    "注意到softmax函数的输出$\\hat{\\vec y}$的定义就是“对给定任意输入$\\vec x$的每个类的条件概率”。即\n",
    "$$\\hat y_j := P(y_j = 1 | \\vec x)$$\n",
    "其中$\\vec y$是one-hot encoding形式的向量，除一项为1外，其余项均为0。最大似然的思路是说，我们想选择这样的参数，使得模型作用于样本之后得到对应标签的概率最大。对于整个数据集来说，即\n",
    "$$P(\\vec Y | \\vec X) = \\prod^n_{i = 1}P(\\vec y^{(i)}|\\vec x^{(i)})$$\n",
    "其中$P(\\vec y^{(i)}|\\vec x^{(i)})$是模型作用于第$i$个样本时得到第$i$个标签的概率，由于标签只有一个非零项，且该项一定为1，这个概率就可以写成\n",
    "$$P(\\vec y^{(i)}|\\vec x^{(i)}) = \\vec y^{(i)}\\hat{\\vec y}^{(i)}$$\n",
    "最大化这个概率，相当于最小化负对数似然\n",
    "$$-\\log P(\\vec Y | \\vec X) = \\sum^n_{i = 1}-\\log P(\\vec y^{(i)}|\\vec x^{(i)}) = \\sum^n_{i = 1}-\\log\\vec y^{(i)}\\hat{\\vec y}^{(i)} = \\sum^n_{i = 1}-\\vec y^{(i)}\\log\\hat{\\vec y}^{(i)}$$\n",
    "注意最后一步能够成立，还是因为$\\vec y$是只有一个非零项，且该项一定为1的这种特殊形式的向量。对于任何标签$\\vec y$和模型预测$\\hat {\\vec y}$，定义损失函数\n",
    "$$l(\\vec y, \\hat{\\vec y}) = -\\vec y\\log\\hat{\\vec y}$$\n",
    "称为交叉熵损失函数。"
   ]
  },
  {
   "cell_type": "markdown",
   "id": "b2b45744",
   "metadata": {},
   "source": [
    "# 交叉熵\n",
    "\n",
    "如果我们不能完全预测每一个事件，那么我们有时可能会感到“惊异”。且该事件发生的(主观)概率越小，我们的“惊异”程度就越大。例如，对于百分之百发生的事件，我们不会感到惊异；但是对于中彩票头奖这类概率极小的事件，我们的惊异感会很大。香农用\n",
    "$$\\log {1 \\over P(j)} = -\\log P(j)$$\n",
    "来量化我们的惊异感，并称分布$P$的期望惊异\n",
    "$$H(P) = \\sum_j -P(j)logP(j)$$\n",
    "为信息熵。交叉熵与信息熵类似，可以理解为\"主观概率为$Q$的观察者在看到根据分布$P$生成的数据时的期望惊异\"，即\n",
    "$$H(P, Q) = \\sum_j -P(j)logQ(j)$$\n",
    "当$P = Q$时，惊异最小，此时\n",
    "$$H(P, P) = H(P)$$\n",
    "\n",
    "于是我们看到，最大化观测数据的似然函数，实际上就等价于最小化传达标签所需的惊异。"
   ]
  }
 ],
 "metadata": {
  "kernelspec": {
   "display_name": "Python 3 (ipykernel)",
   "language": "python",
   "name": "python3"
  },
  "language_info": {
   "codemirror_mode": {
    "name": "ipython",
    "version": 3
   },
   "file_extension": ".py",
   "mimetype": "text/x-python",
   "name": "python",
   "nbconvert_exporter": "python",
   "pygments_lexer": "ipython3",
   "version": "3.8.12"
  }
 },
 "nbformat": 4,
 "nbformat_minor": 5
}
